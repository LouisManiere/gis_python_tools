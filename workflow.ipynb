{
 "cells": [
  {
   "cell_type": "code",
   "execution_count": 6,
   "id": "578b6b2e-ae5d-4ac7-b6a0-ba2094a0108b",
   "metadata": {},
   "outputs": [],
   "source": [
    "# clip vector data with an other"
   ]
  },
  {
   "cell_type": "code",
   "execution_count": 14,
   "id": "3c4f3d8a-e363-4ce6-8404-8aea9178c114",
   "metadata": {},
   "outputs": [],
   "source": [
    "import os\n",
    "from config.config import paths_config, parameters_config\n",
    "import geopandas as gpd"
   ]
  },
  {
   "cell_type": "code",
   "execution_count": 15,
   "id": "364f65bb-c654-4781-93c4-65ba5bb3efe4",
   "metadata": {},
   "outputs": [],
   "source": [
    "# parameters\n",
    "paths = paths_config()\n",
    "params = parameters_config()"
   ]
  },
  {
   "cell_type": "code",
   "execution_count": 9,
   "id": "b2cff17f-c3c6-4124-9528-6758e473baab",
   "metadata": {},
   "outputs": [],
   "source": [
    "# read vector to clip\n",
    "data = gpd.read_file(paths['reference_hydro_intersect_surface'])"
   ]
  },
  {
   "cell_type": "code",
   "execution_count": 16,
   "id": "36303ec9-332d-4e72-876a-6e5cd5f9ab70",
   "metadata": {},
   "outputs": [],
   "source": [
    "# read surface mask\n",
    "mask = gpd.read_file(paths['surface_hydro'])"
   ]
  },
  {
   "cell_type": "code",
   "execution_count": null,
   "id": "608d1c71-f20f-43cd-b7be-03f4d8d5b5be",
   "metadata": {},
   "outputs": [],
   "source": [
    "# clip\n",
    "clip_network = data.clip(mask = mask, keep_geom_type=True)"
   ]
  },
  {
   "cell_type": "code",
   "execution_count": null,
   "id": "03028d72-ba6c-46ac-93aa-9fc69e7bc1c0",
   "metadata": {},
   "outputs": [],
   "source": [
    "# export\n",
    "clip_network.to_file(paths['reference_hydro_clipped'], layer='reference_hydro_clipped', driver=\"GPKG\")"
   ]
  },
  {
   "cell_type": "code",
   "execution_count": null,
   "id": "5d8a6996-e29b-4748-9bd2-f99911eedf9f",
   "metadata": {},
   "outputs": [],
   "source": []
  }
 ],
 "metadata": {
  "kernelspec": {
   "display_name": "Python 3 (ipykernel)",
   "language": "python",
   "name": "python3"
  },
  "language_info": {
   "codemirror_mode": {
    "name": "ipython",
    "version": 3
   },
   "file_extension": ".py",
   "mimetype": "text/x-python",
   "name": "python",
   "nbconvert_exporter": "python",
   "pygments_lexer": "ipython3",
   "version": "3.8.10"
  }
 },
 "nbformat": 4,
 "nbformat_minor": 5
}
